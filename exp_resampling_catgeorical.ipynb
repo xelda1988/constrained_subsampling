{
 "cells": [
  {
   "cell_type": "code",
   "execution_count": 1,
   "metadata": {},
   "outputs": [],
   "source": [
    "import numpy as np"
   ]
  },
  {
   "cell_type": "markdown",
   "metadata": {},
   "source": [
    "## Create random data with categorical distribution, then resample according to a constraint on the categories"
   ]
  },
  {
   "cell_type": "code",
   "execution_count": 191,
   "metadata": {},
   "outputs": [],
   "source": [
    "from numpy.random import randint, random, random_sample"
   ]
  },
  {
   "cell_type": "code",
   "execution_count": 47,
   "metadata": {},
   "outputs": [],
   "source": [
    "binary_random_dic = {i:randint(2) for i in range(1000)}"
   ]
  },
  {
   "cell_type": "code",
   "execution_count": 118,
   "metadata": {},
   "outputs": [],
   "source": [
    "def balance(dic):\n",
    "    return np.sum(np.array(list(dic.values())))/(len(dic) + 0.000001)"
   ]
  },
  {
   "cell_type": "code",
   "execution_count": 119,
   "metadata": {},
   "outputs": [
    {
     "data": {
      "text/plain": [
       "0.491999999508"
      ]
     },
     "execution_count": 119,
     "metadata": {},
     "output_type": "execute_result"
    }
   ],
   "source": [
    "balance(binary_random_dic)"
   ]
  },
  {
   "cell_type": "code",
   "execution_count": 148,
   "metadata": {},
   "outputs": [],
   "source": [
    "# constrained stochastic iterative resampling, just indices = selection:\n",
    "resampled_dic = {}\n",
    "constraint = 0.2\n",
    "for idx, val in binary_random_dic.items():\n",
    "    bl = balance(resampled_dic)\n",
    "    if bl > constraint and random(1)[0]>0.2:\n",
    "        if val==0:\n",
    "            resampled_dic[idx]=val\n",
    "    else:\n",
    "        if val==1:\n",
    "            resampled_dic[idx]=val"
   ]
  },
  {
   "cell_type": "code",
   "execution_count": 285,
   "metadata": {},
   "outputs": [
    {
     "data": {
      "text/plain": [
       "0.21362229069098718"
      ]
     },
     "metadata": {},
     "output_type": "display_data"
    }
   ],
   "source": [
    "resampled_dic_method_2 = {}\n",
    "constraint = 0.2\n",
    "# as subgroups 1 and 0 are independent we can subsample each subgroup of data\n",
    "rands = np.random.random_sample((len(binary_random_dic),))\n",
    "for idx, val in binary_random_dic.items():\n",
    "    \n",
    "    if val == 1:\n",
    "        # subgroup 2 - accept with probability x*balance = 0.2 => x = 0.4\n",
    "        if rands[idx]<=(balance(binary_random_dic) - constraint):\n",
    "            resampled_dic_method_2[idx]=val\n",
    "    else:\n",
    "        resampled_dic_method_2[idx]=val\n",
    "display(balance(resampled_dic_method_2))"
   ]
  },
  {
   "cell_type": "code",
   "execution_count": 254,
   "metadata": {},
   "outputs": [
    {
     "data": {
      "text/plain": [
       "0.491999999508"
      ]
     },
     "execution_count": 254,
     "metadata": {},
     "output_type": "execute_result"
    }
   ],
   "source": [
    "balance(binary_random_dic)"
   ]
  },
  {
   "cell_type": "code",
   "execution_count": 286,
   "metadata": {},
   "outputs": [
    {
     "data": {
      "text/plain": [
       "0.20362903184752212"
      ]
     },
     "metadata": {},
     "output_type": "display_data"
    }
   ],
   "source": [
    "display(balance(resampled_dic))\n"
   ]
  },
  {
   "cell_type": "code",
   "execution_count": 359,
   "metadata": {},
   "outputs": [
    {
     "data": {
      "text/plain": [
       "0.21362229069098718"
      ]
     },
     "metadata": {},
     "output_type": "display_data"
    }
   ],
   "source": [
    "display(balance(resampled_dic_method_2))"
   ]
  },
  {
   "cell_type": "markdown",
   "metadata": {},
   "source": [
    "## Create a more complicated example using categorical string variables"
   ]
  },
  {
   "cell_type": "code",
   "execution_count": 360,
   "metadata": {},
   "outputs": [
    {
     "data": {
      "text/html": [
       "<div>\n",
       "<style scoped>\n",
       "    .dataframe tbody tr th:only-of-type {\n",
       "        vertical-align: middle;\n",
       "    }\n",
       "\n",
       "    .dataframe tbody tr th {\n",
       "        vertical-align: top;\n",
       "    }\n",
       "\n",
       "    .dataframe thead th {\n",
       "        text-align: right;\n",
       "    }\n",
       "</style>\n",
       "<table border=\"1\" class=\"dataframe\">\n",
       "  <thead>\n",
       "    <tr style=\"text-align: right;\">\n",
       "      <th></th>\n",
       "      <th>gender</th>\n",
       "      <th>age</th>\n",
       "      <th>suitability_score</th>\n",
       "    </tr>\n",
       "  </thead>\n",
       "  <tbody>\n",
       "    <tr>\n",
       "      <th>0</th>\n",
       "      <td>m</td>\n",
       "      <td>15</td>\n",
       "      <td>0.689838</td>\n",
       "    </tr>\n",
       "    <tr>\n",
       "      <th>1</th>\n",
       "      <td>m</td>\n",
       "      <td>44</td>\n",
       "      <td>0.681925</td>\n",
       "    </tr>\n",
       "    <tr>\n",
       "      <th>2</th>\n",
       "      <td>m</td>\n",
       "      <td>54</td>\n",
       "      <td>0.633698</td>\n",
       "    </tr>\n",
       "    <tr>\n",
       "      <th>3</th>\n",
       "      <td>m</td>\n",
       "      <td>29</td>\n",
       "      <td>0.748334</td>\n",
       "    </tr>\n",
       "    <tr>\n",
       "      <th>4</th>\n",
       "      <td>m</td>\n",
       "      <td>41</td>\n",
       "      <td>0.658691</td>\n",
       "    </tr>\n",
       "    <tr>\n",
       "      <th>5</th>\n",
       "      <td>f</td>\n",
       "      <td>15</td>\n",
       "      <td>0.770670</td>\n",
       "    </tr>\n",
       "    <tr>\n",
       "      <th>6</th>\n",
       "      <td>f</td>\n",
       "      <td>95</td>\n",
       "      <td>0.632892</td>\n",
       "    </tr>\n",
       "    <tr>\n",
       "      <th>7</th>\n",
       "      <td>f</td>\n",
       "      <td>28</td>\n",
       "      <td>0.661164</td>\n",
       "    </tr>\n",
       "    <tr>\n",
       "      <th>8</th>\n",
       "      <td>f</td>\n",
       "      <td>18</td>\n",
       "      <td>0.620986</td>\n",
       "    </tr>\n",
       "    <tr>\n",
       "      <th>9</th>\n",
       "      <td>f</td>\n",
       "      <td>98</td>\n",
       "      <td>0.625067</td>\n",
       "    </tr>\n",
       "  </tbody>\n",
       "</table>\n",
       "</div>"
      ],
      "text/plain": [
       "  gender age  suitability_score\n",
       "0      m  15           0.689838\n",
       "1      m  44           0.681925\n",
       "2      m  54           0.633698\n",
       "3      m  29           0.748334\n",
       "4      m  41           0.658691\n",
       "5      f  15           0.770670\n",
       "6      f  95           0.632892\n",
       "7      f  28           0.661164\n",
       "8      f  18           0.620986\n",
       "9      f  98           0.625067"
      ]
     },
     "execution_count": 360,
     "metadata": {},
     "output_type": "execute_result"
    }
   ],
   "source": [
    "import pandas as pd\n",
    "df = pd.DataFrame(columns=['gender','age', 'suitability_score'])\n",
    "# generate multivariate uniform random distribution along age, gender and suitability score\n",
    "gender_map={0:'m', 1:'f'}\n",
    "for i in range(1000):\n",
    "    suitascore = 0.2*random_sample()+0.6\n",
    "    df = df.append({'gender': gender_map[randint(2)], 'age': 1 + randint(100), 'suitability_score': suitascore}, ignore_index=True)\n",
    "    \n",
    "df.head(10)"
   ]
  },
  {
   "cell_type": "code",
   "execution_count": 361,
   "metadata": {},
   "outputs": [],
   "source": [
    "gender_reverse = {'m':0, 'f':1}"
   ]
  },
  {
   "cell_type": "code",
   "execution_count": 362,
   "metadata": {},
   "outputs": [],
   "source": [
    "# now define an optimization function and optimize it stochastically\n",
    "\n",
    "# we want 100 people in the age group of 30 - 50 (distributional constraint? e.g like uniform or gaussian):\n",
    "# AND those people should have a suitability score in the range of 0.6-0.7 (uniform)\n",
    "# AND those people should be 30% woman\n",
    "\n",
    "# one could plot different dimensions of the target distribution\n",
    "\n",
    "# define an loss function based on the target distribution which can be optimized with stochastic iterative sampling:\n",
    "\n",
    "def loss_function(genders, ages, suitascores):\n",
    "    # based on product when AND condition is used, optimizing the loss iteratively means to select a batch of\n",
    "    # randomly subsampled datapoints it accepts them with probability p without replacement\n",
    "    # so the loss is measured on the whole distribution obvisiouly and not on a single datapoint\n",
    "    \n",
    "    # genders + m/f, measure similarity\n",
    "    \n",
    "    gender_ratio = np.sum([gender_reverse[i] for i in genders])\n",
    "    gender_loss = 1 - np.log(abs(0.3 - gender_ratio))\n",
    "    # TODO\n",
    "    # for the age, penalize \n",
    "    # for single datapoints for male female there could be a probabilistic loss\n",
    "    # for something like age there could be a hard constraint\n",
    "\n",
    "def loss_single_single_datapoint(gender, age, suitascore, current_gender_ratio):\n",
    "    \n",
    "    age_low, age_high = 30, 50\n",
    "    age_loss = 0.05\n",
    "    if age_low <= age <= age_high:\n",
    "        age_loss = 0.95\n",
    "    \n",
    "    suita_loss = 0.05\n",
    "    suita_low, suita_high = 0.6, 0.7\n",
    "    \n",
    "    if suita_low <= suitascore <=suita_high:\n",
    "        suita_loss = 0.95\n",
    "        \n",
    "    gender_loss = 0.1\n",
    "    gender_ratio_target = 0.3\n",
    "    \n",
    "    # if the current_gender_ratio is bigger than target have a higher probability of accepting if the gender is male\n",
    "    # else have a higher probability of accepting the female\n",
    "    \n",
    "    if current_gender_ratio > gender_ratio_target + random_sample()*0.1 -0.05:\n",
    "        if gender=='m':\n",
    "            gender_loss = 0.9\n",
    "    else:\n",
    "        if gender=='f':\n",
    "            gender_loss = 0.9\n",
    "        \n",
    "    \n",
    "    return gender_loss*age_loss*suita_low"
   ]
  },
  {
   "cell_type": "code",
   "execution_count": 366,
   "metadata": {
    "scrolled": true
   },
   "outputs": [
    {
     "data": {
      "text/html": [
       "<div>\n",
       "<style scoped>\n",
       "    .dataframe tbody tr th:only-of-type {\n",
       "        vertical-align: middle;\n",
       "    }\n",
       "\n",
       "    .dataframe tbody tr th {\n",
       "        vertical-align: top;\n",
       "    }\n",
       "\n",
       "    .dataframe thead th {\n",
       "        text-align: right;\n",
       "    }\n",
       "</style>\n",
       "<table border=\"1\" class=\"dataframe\">\n",
       "  <thead>\n",
       "    <tr style=\"text-align: right;\">\n",
       "      <th></th>\n",
       "      <th>gender</th>\n",
       "      <th>age</th>\n",
       "      <th>suitability_score</th>\n",
       "    </tr>\n",
       "  </thead>\n",
       "  <tbody>\n",
       "    <tr>\n",
       "      <th>1</th>\n",
       "      <td>m</td>\n",
       "      <td>44</td>\n",
       "      <td>0.681925</td>\n",
       "    </tr>\n",
       "    <tr>\n",
       "      <th>23</th>\n",
       "      <td>f</td>\n",
       "      <td>38</td>\n",
       "      <td>0.656266</td>\n",
       "    </tr>\n",
       "    <tr>\n",
       "      <th>51</th>\n",
       "      <td>m</td>\n",
       "      <td>45</td>\n",
       "      <td>0.611501</td>\n",
       "    </tr>\n",
       "    <tr>\n",
       "      <th>56</th>\n",
       "      <td>m</td>\n",
       "      <td>34</td>\n",
       "      <td>0.788928</td>\n",
       "    </tr>\n",
       "    <tr>\n",
       "      <th>66</th>\n",
       "      <td>f</td>\n",
       "      <td>34</td>\n",
       "      <td>0.623615</td>\n",
       "    </tr>\n",
       "    <tr>\n",
       "      <th>70</th>\n",
       "      <td>m</td>\n",
       "      <td>32</td>\n",
       "      <td>0.673853</td>\n",
       "    </tr>\n",
       "    <tr>\n",
       "      <th>75</th>\n",
       "      <td>m</td>\n",
       "      <td>47</td>\n",
       "      <td>0.734084</td>\n",
       "    </tr>\n",
       "    <tr>\n",
       "      <th>80</th>\n",
       "      <td>m</td>\n",
       "      <td>35</td>\n",
       "      <td>0.733243</td>\n",
       "    </tr>\n",
       "    <tr>\n",
       "      <th>85</th>\n",
       "      <td>f</td>\n",
       "      <td>41</td>\n",
       "      <td>0.632360</td>\n",
       "    </tr>\n",
       "    <tr>\n",
       "      <th>90</th>\n",
       "      <td>m</td>\n",
       "      <td>35</td>\n",
       "      <td>0.690068</td>\n",
       "    </tr>\n",
       "  </tbody>\n",
       "</table>\n",
       "</div>"
      ],
      "text/plain": [
       "   gender age  suitability_score\n",
       "1       m  44           0.681925\n",
       "23      f  38           0.656266\n",
       "51      m  45           0.611501\n",
       "56      m  34           0.788928\n",
       "66      f  34           0.623615\n",
       "70      m  32           0.673853\n",
       "75      m  47           0.734084\n",
       "80      m  35           0.733243\n",
       "85      f  41           0.632360\n",
       "90      m  35           0.690068"
      ]
     },
     "execution_count": 366,
     "metadata": {},
     "output_type": "execute_result"
    }
   ],
   "source": [
    "def get_gender_ratio(df):\n",
    "    return np.sum([gender_reverse[i] for i in df.gender.tolist()])/len(df)\n",
    "    \n",
    "df_subsampled = pd.DataFrame(columns=['gender','age', 'suitability_score'])\n",
    "gr = 0.5\n",
    "for idx, r in df.iterrows():\n",
    "    p_acc = loss_single_single_datapoint(r.gender, r.age, r.suitability_score, gr)\n",
    "    #print(p_acc)\n",
    "    if p_acc > 0.4:\n",
    "        df_subsampled = df_subsampled.append(r)\n",
    "        gr = get_gender_ratio(df_subsampled)\n",
    "    \n",
    "df_subsampled.head(10)"
   ]
  },
  {
   "cell_type": "code",
   "execution_count": 367,
   "metadata": {},
   "outputs": [
    {
     "data": {
      "text/plain": [
       "97"
      ]
     },
     "execution_count": 367,
     "metadata": {},
     "output_type": "execute_result"
    }
   ],
   "source": [
    "len(df_subsampled)"
   ]
  },
  {
   "cell_type": "code",
   "execution_count": 368,
   "metadata": {},
   "outputs": [
    {
     "data": {
      "text/plain": [
       "0.32989690721649484"
      ]
     },
     "execution_count": 368,
     "metadata": {},
     "output_type": "execute_result"
    }
   ],
   "source": [
    "get_gender_ratio(df_subsampled)"
   ]
  }
 ],
 "metadata": {
  "kernelspec": {
   "display_name": "Python 3",
   "language": "python",
   "name": "python3"
  },
  "language_info": {
   "codemirror_mode": {
    "name": "ipython",
    "version": 3
   },
   "file_extension": ".py",
   "mimetype": "text/x-python",
   "name": "python",
   "nbconvert_exporter": "python",
   "pygments_lexer": "ipython3",
   "version": "3.6.5"
  }
 },
 "nbformat": 4,
 "nbformat_minor": 2
}
